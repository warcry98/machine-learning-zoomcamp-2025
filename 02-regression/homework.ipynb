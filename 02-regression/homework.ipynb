{
 "cells": [
  {
   "cell_type": "code",
   "execution_count": 1,
   "id": "966b99a4",
   "metadata": {},
   "outputs": [],
   "source": [
    "import numpy as np\n",
    "import pandas as pd\n",
    "import matplotlib.pyplot as plt\n",
    "\n",
    "from math import sqrt"
   ]
  },
  {
   "cell_type": "code",
   "execution_count": 3,
   "id": "01e088ac",
   "metadata": {},
   "outputs": [
    {
     "data": {
      "text/html": [
       "<div>\n",
       "<style scoped>\n",
       "    .dataframe tbody tr th:only-of-type {\n",
       "        vertical-align: middle;\n",
       "    }\n",
       "\n",
       "    .dataframe tbody tr th {\n",
       "        vertical-align: top;\n",
       "    }\n",
       "\n",
       "    .dataframe thead th {\n",
       "        text-align: right;\n",
       "    }\n",
       "</style>\n",
       "<table border=\"1\" class=\"dataframe\">\n",
       "  <thead>\n",
       "    <tr style=\"text-align: right;\">\n",
       "      <th></th>\n",
       "      <th>engine_displacement</th>\n",
       "      <th>num_cylinders</th>\n",
       "      <th>horsepower</th>\n",
       "      <th>vehicle_weight</th>\n",
       "      <th>acceleration</th>\n",
       "      <th>model_year</th>\n",
       "      <th>origin</th>\n",
       "      <th>fuel_type</th>\n",
       "      <th>drivetrain</th>\n",
       "      <th>num_doors</th>\n",
       "      <th>fuel_efficiency_mpg</th>\n",
       "    </tr>\n",
       "  </thead>\n",
       "  <tbody>\n",
       "    <tr>\n",
       "      <th>0</th>\n",
       "      <td>170</td>\n",
       "      <td>3.0</td>\n",
       "      <td>159.0</td>\n",
       "      <td>3413.433759</td>\n",
       "      <td>17.7</td>\n",
       "      <td>2003</td>\n",
       "      <td>Europe</td>\n",
       "      <td>Gasoline</td>\n",
       "      <td>All-wheel drive</td>\n",
       "      <td>0.0</td>\n",
       "      <td>13.231729</td>\n",
       "    </tr>\n",
       "    <tr>\n",
       "      <th>1</th>\n",
       "      <td>130</td>\n",
       "      <td>5.0</td>\n",
       "      <td>97.0</td>\n",
       "      <td>3149.664934</td>\n",
       "      <td>17.8</td>\n",
       "      <td>2007</td>\n",
       "      <td>USA</td>\n",
       "      <td>Gasoline</td>\n",
       "      <td>Front-wheel drive</td>\n",
       "      <td>0.0</td>\n",
       "      <td>13.688217</td>\n",
       "    </tr>\n",
       "    <tr>\n",
       "      <th>2</th>\n",
       "      <td>170</td>\n",
       "      <td>NaN</td>\n",
       "      <td>78.0</td>\n",
       "      <td>3079.038997</td>\n",
       "      <td>15.1</td>\n",
       "      <td>2018</td>\n",
       "      <td>Europe</td>\n",
       "      <td>Gasoline</td>\n",
       "      <td>Front-wheel drive</td>\n",
       "      <td>0.0</td>\n",
       "      <td>14.246341</td>\n",
       "    </tr>\n",
       "    <tr>\n",
       "      <th>3</th>\n",
       "      <td>220</td>\n",
       "      <td>4.0</td>\n",
       "      <td>NaN</td>\n",
       "      <td>2542.392402</td>\n",
       "      <td>20.2</td>\n",
       "      <td>2009</td>\n",
       "      <td>USA</td>\n",
       "      <td>Diesel</td>\n",
       "      <td>All-wheel drive</td>\n",
       "      <td>2.0</td>\n",
       "      <td>16.912736</td>\n",
       "    </tr>\n",
       "    <tr>\n",
       "      <th>4</th>\n",
       "      <td>210</td>\n",
       "      <td>1.0</td>\n",
       "      <td>140.0</td>\n",
       "      <td>3460.870990</td>\n",
       "      <td>14.4</td>\n",
       "      <td>2009</td>\n",
       "      <td>Europe</td>\n",
       "      <td>Gasoline</td>\n",
       "      <td>All-wheel drive</td>\n",
       "      <td>2.0</td>\n",
       "      <td>12.488369</td>\n",
       "    </tr>\n",
       "  </tbody>\n",
       "</table>\n",
       "</div>"
      ],
      "text/plain": [
       "   engine_displacement  num_cylinders  horsepower  vehicle_weight  \\\n",
       "0                  170            3.0       159.0     3413.433759   \n",
       "1                  130            5.0        97.0     3149.664934   \n",
       "2                  170            NaN        78.0     3079.038997   \n",
       "3                  220            4.0         NaN     2542.392402   \n",
       "4                  210            1.0       140.0     3460.870990   \n",
       "\n",
       "   acceleration  model_year  origin fuel_type         drivetrain  num_doors  \\\n",
       "0          17.7        2003  Europe  Gasoline    All-wheel drive        0.0   \n",
       "1          17.8        2007     USA  Gasoline  Front-wheel drive        0.0   \n",
       "2          15.1        2018  Europe  Gasoline  Front-wheel drive        0.0   \n",
       "3          20.2        2009     USA    Diesel    All-wheel drive        2.0   \n",
       "4          14.4        2009  Europe  Gasoline    All-wheel drive        2.0   \n",
       "\n",
       "   fuel_efficiency_mpg  \n",
       "0            13.231729  \n",
       "1            13.688217  \n",
       "2            14.246341  \n",
       "3            16.912736  \n",
       "4            12.488369  "
      ]
     },
     "execution_count": 3,
     "metadata": {},
     "output_type": "execute_result"
    }
   ],
   "source": [
    "url = \"https://raw.githubusercontent.com/alexeygrigorev/datasets/master/car_fuel_efficiency.csv\"\n",
    "df = pd.read_csv(url)\n",
    "\n",
    "df.columns = df.columns.str.lower().str.replace(' ', '_')\n",
    "df.head()"
   ]
  },
  {
   "cell_type": "code",
   "execution_count": 5,
   "id": "adf178fb",
   "metadata": {},
   "outputs": [
    {
     "data": {
      "text/html": [
       "<div>\n",
       "<style scoped>\n",
       "    .dataframe tbody tr th:only-of-type {\n",
       "        vertical-align: middle;\n",
       "    }\n",
       "\n",
       "    .dataframe tbody tr th {\n",
       "        vertical-align: top;\n",
       "    }\n",
       "\n",
       "    .dataframe thead th {\n",
       "        text-align: right;\n",
       "    }\n",
       "</style>\n",
       "<table border=\"1\" class=\"dataframe\">\n",
       "  <thead>\n",
       "    <tr style=\"text-align: right;\">\n",
       "      <th></th>\n",
       "      <th>engine_displacement</th>\n",
       "      <th>horsepower</th>\n",
       "      <th>vehicle_weight</th>\n",
       "      <th>model_year</th>\n",
       "      <th>fuel_efficiency_mpg</th>\n",
       "    </tr>\n",
       "  </thead>\n",
       "  <tbody>\n",
       "    <tr>\n",
       "      <th>0</th>\n",
       "      <td>170</td>\n",
       "      <td>159.0</td>\n",
       "      <td>3413.433759</td>\n",
       "      <td>2003</td>\n",
       "      <td>13.231729</td>\n",
       "    </tr>\n",
       "    <tr>\n",
       "      <th>1</th>\n",
       "      <td>130</td>\n",
       "      <td>97.0</td>\n",
       "      <td>3149.664934</td>\n",
       "      <td>2007</td>\n",
       "      <td>13.688217</td>\n",
       "    </tr>\n",
       "    <tr>\n",
       "      <th>2</th>\n",
       "      <td>170</td>\n",
       "      <td>78.0</td>\n",
       "      <td>3079.038997</td>\n",
       "      <td>2018</td>\n",
       "      <td>14.246341</td>\n",
       "    </tr>\n",
       "    <tr>\n",
       "      <th>3</th>\n",
       "      <td>220</td>\n",
       "      <td>NaN</td>\n",
       "      <td>2542.392402</td>\n",
       "      <td>2009</td>\n",
       "      <td>16.912736</td>\n",
       "    </tr>\n",
       "    <tr>\n",
       "      <th>4</th>\n",
       "      <td>210</td>\n",
       "      <td>140.0</td>\n",
       "      <td>3460.870990</td>\n",
       "      <td>2009</td>\n",
       "      <td>12.488369</td>\n",
       "    </tr>\n",
       "  </tbody>\n",
       "</table>\n",
       "</div>"
      ],
      "text/plain": [
       "   engine_displacement  horsepower  vehicle_weight  model_year  \\\n",
       "0                  170       159.0     3413.433759        2003   \n",
       "1                  130        97.0     3149.664934        2007   \n",
       "2                  170        78.0     3079.038997        2018   \n",
       "3                  220         NaN     2542.392402        2009   \n",
       "4                  210       140.0     3460.870990        2009   \n",
       "\n",
       "   fuel_efficiency_mpg  \n",
       "0            13.231729  \n",
       "1            13.688217  \n",
       "2            14.246341  \n",
       "3            16.912736  \n",
       "4            12.488369  "
      ]
     },
     "execution_count": 5,
     "metadata": {},
     "output_type": "execute_result"
    }
   ],
   "source": [
    "cols = ['engine_displacement', 'horsepower', 'vehicle_weight', 'model_year', 'fuel_efficiency_mpg']\n",
    "missing_cols = [c for c in cols if c not in df.columns]\n",
    "if missing_cols:\n",
    "    raise ValueError(f\"Expected columns not found in the dataset: {missing_cols}\")\n",
    "\n",
    "df = df[cols].copy()\n",
    "\n",
    "for c in cols:\n",
    "    df[c] = pd.to_numeric(df[c], errors='coerce')\n",
    "\n",
    "df.head()"
   ]
  },
  {
   "cell_type": "code",
   "execution_count": 6,
   "id": "e1488076",
   "metadata": {},
   "outputs": [
    {
     "data": {
      "image/png": "[encoded data removed]",
      "text/plain": [
       "<Figure size 600x400 with 1 Axes>"
      ]
     },
     "metadata": {},
     "output_type": "display_data"
    },
    {
     "name": "stdout",
     "output_type": "stream",
     "text": [
      "Skewness: -0.012062219273507922\n",
      "Comment: If skewness is >> 0 and the histogram has a heavy right tail, it's long-tailed.\n"
     ]
    }
   ],
   "source": [
    "fuel_efficiency_mpg = df['fuel_efficiency_mpg'].dropna()\n",
    "\n",
    "plt.figure(figsize=(6, 4))\n",
    "plt.hist(fuel_efficiency_mpg, bins=50)\n",
    "plt.title(\"Distribution of fuel_efficiency_mpg\")\n",
    "plt.xlabel(\"fuel_efficiency_mpg\")\n",
    "plt.ylabel(\"Count\")\n",
    "plt.show()\n",
    "\n",
    "print(\"Skewness:\", fuel_efficiency_mpg.skew())\n",
    "print(\"Comment: If skewness is >> 0 and the histogram has a heavy right tail, it's long-tailed.\")"
   ]
  },
  {
   "cell_type": "code",
   "execution_count": 7,
   "id": "184b52d2",
   "metadata": {},
   "outputs": [
    {
     "data": {
      "text/plain": [
       "horsepower             708\n",
       "engine_displacement      0\n",
       "vehicle_weight           0\n",
       "model_year               0\n",
       "fuel_efficiency_mpg      0\n",
       "dtype: int64"
      ]
     },
     "metadata": {},
     "output_type": "display_data"
    },
    {
     "name": "stdout",
     "output_type": "stream",
     "text": [
      "horsepower\n"
     ]
    }
   ],
   "source": [
    "na_counts = df.isnull().sum().sort_values(ascending=False)\n",
    "display(na_counts)\n",
    "\n",
    "q1_answer = na_counts.idxmax() if (na_counts.max() > 0) else \"no_missing\"\n",
    "print(q1_answer)"
   ]
  },
  {
   "cell_type": "code",
   "execution_count": 8,
   "id": "eef007c1",
   "metadata": {},
   "outputs": [
    {
     "name": "stdout",
     "output_type": "stream",
     "text": [
      "149.0\n"
     ]
    }
   ],
   "source": [
    "horsepower_median = float(df['horsepower'].median())\n",
    "print(horsepower_median)"
   ]
  },
  {
   "cell_type": "code",
   "execution_count": 19,
   "id": "1a71e303",
   "metadata": {},
   "outputs": [],
   "source": [
    "def shuffle_split(df, seed=42, train_ratio=0.6, val_ratio=0.2, test_ratio=0.2):\n",
    "    assert abs(train_ratio + val_ratio + test_ratio - 1.0) < 1e-8\n",
    "    n = len(df)\n",
    "    idx = np.arange(n)\n",
    "    rng = np.random.RandomState(seed)\n",
    "    rng.shuffle(idx)\n",
    "\n",
    "    n_train = int(n * train_ratio)\n",
    "    n_val = int(n * val_ratio)\n",
    "\n",
    "    train_idx = idx[:n_train]\n",
    "    val_idx = idx[n_train:n_train + n_val]\n",
    "    test_idx = idx[n_train + n_val:]\n",
    "\n",
    "    return df.iloc[train_idx].copy(), df.iloc[val_idx].copy(), df.iloc[test_idx].copy()"
   ]
  },
  {
   "cell_type": "code",
   "execution_count": 20,
   "id": "105bfafc",
   "metadata": {},
   "outputs": [
    {
     "data": {
      "text/plain": [
       "(5822, 1940, 1942)"
      ]
     },
     "execution_count": 20,
     "metadata": {},
     "output_type": "execute_result"
    }
   ],
   "source": [
    "df_full = df.copy()\n",
    "df_train, df_val, df_test = shuffle_split(df_full, seed=42, train_ratio=0.6, val_ratio=0.2, test_ratio=0.2)\n",
    "\n",
    "y_train = df_train['fuel_efficiency_mpg'].values\n",
    "y_val   = df_val['fuel_efficiency_mpg'].values\n",
    "y_test  = df_test['fuel_efficiency_mpg'].values\n",
    "\n",
    "feats = ['engine_displacement', 'horsepower', 'vehicle_weight', 'model_year']\n",
    "X_train_raw = df_train[feats].copy()\n",
    "X_val_raw   = df_val[feats].copy()\n",
    "X_test_raw  = df_test[feats].copy()\n",
    "\n",
    "len(df_train), len(df_val), len(df_test)"
   ]
  },
  {
   "cell_type": "code",
   "execution_count": 21,
   "id": "c63f2217",
   "metadata": {},
   "outputs": [],
   "source": [
    "np.set_printoptions(suppress=True)\n",
    "pd.set_option('display.max_columns', 100)\n",
    "\n",
    "def rmse(y, y_pred):\n",
    "    return np.sqrt(((y - y_pred) ** 2).mean())\n",
    "\n",
    "def prepare_X(df, features=('ram', 'storage', 'screen')):\n",
    "    X = df[list(features)].copy()\n",
    "    # Coerce to numeric in case any column is parsed as strings (e.g., '8', '512', etc.)\n",
    "    for c in X.columns:\n",
    "        X[c] = pd.to_numeric(X[c], errors='coerce')\n",
    "    X = X.fillna(0)  # defensive; imputation choices are applied earlier in the pipeline\n",
    "    # Add intercept\n",
    "    X = np.column_stack([np.ones(len(X)), X.values])\n",
    "    return X\n",
    "\n",
    "def train_linear_regression(X, y):\n",
    "    # Normal equation: w = (X^T X)^(-1) X^T y\n",
    "    XTX = X.T.dot(X)\n",
    "    XTX_inv = np.linalg.inv(XTX)\n",
    "    w = XTX_inv.dot(X.T).dot(y)\n",
    "    return w\n",
    "\n",
    "def train_linear_regression_reg(X, y, r=0.0):\n",
    "    # Ridge-regularized closed-form: w = (X^T X + r*I)^(-1) X^T y\n",
    "    XTX = X.T.dot(X)\n",
    "    # Don't regularize the bias term\n",
    "    reg = np.eye(XTX.shape[0])\n",
    "    reg[0, 0] = 0.0\n",
    "    XTX_reg = XTX + r * reg\n",
    "    XTX_inv = np.linalg.inv(XTX_reg)\n",
    "    w = XTX_inv.dot(X.T).dot(y)\n",
    "    return w\n",
    "\n",
    "def predict(X, w):\n",
    "    return X.dot(w)"
   ]
  },
  {
   "cell_type": "code",
   "execution_count": 23,
   "id": "9bd4a90e",
   "metadata": {},
   "outputs": [
    {
     "name": "stdout",
     "output_type": "stream",
     "text": [
      "Column with NA (from data): horsepower\n",
      "Validation RMSE with 0   : 0.52\n",
      "Validation RMSE with mean: 0.46\n",
      "With mean\n"
     ]
    }
   ],
   "source": [
    "col_with_na = df.columns[df.isnull().any()].tolist()\n",
    "col_with_na = col_with_na[0] if len(col_with_na) > 0 else None\n",
    "print(\"Column with NA (from data):\", col_with_na)\n",
    "\n",
    "def impute_and_train(strategy='zero'):\n",
    "    X_tr = X_train_raw.copy()\n",
    "    X_v  = X_val_raw.copy()\n",
    "\n",
    "    if col_with_na is not None:\n",
    "        if strategy == 'zero':\n",
    "            X_tr[col_with_na] = X_tr[col_with_na].fillna(0)\n",
    "            X_v[col_with_na]  = X_v[col_with_na].fillna(0)\n",
    "        elif strategy == 'mean':\n",
    "            mean_val = X_tr[col_with_na].mean()\n",
    "            X_tr[col_with_na] = X_tr[col_with_na].fillna(mean_val)\n",
    "            X_v[col_with_na]  = X_v[col_with_na].fillna(mean_val)\n",
    "        else:\n",
    "            raise ValueError(\"Unknown strategy\")\n",
    "\n",
    "    # For safety, coerce to numeric (if any string sneaks in)\n",
    "    for c in X_tr.columns:\n",
    "        X_tr[c] = pd.to_numeric(X_tr[c], errors='coerce')\n",
    "        X_v[c]  = pd.to_numeric(X_v[c], errors='coerce')\n",
    "\n",
    "    X_tr = prepare_X(pd.concat([X_tr, df_train[['fuel_efficiency_mpg']]], axis=1), features=feats)\n",
    "    X_v  = prepare_X(pd.concat([X_v,  df_val[['fuel_efficiency_mpg']]],   axis=1), features=feats)\n",
    "\n",
    "    w = train_linear_regression(X_tr, y_train)\n",
    "    pred = predict(X_v, w)\n",
    "    return rmse(y_val, pred)\n",
    "\n",
    "rmse_zero = impute_and_train('zero')\n",
    "rmse_mean = impute_and_train('mean')\n",
    "\n",
    "print(\"Validation RMSE with 0   :\", round(rmse_zero, 2))\n",
    "print(\"Validation RMSE with mean:\", round(rmse_mean, 2))\n",
    "\n",
    "q3_answer = \"With 0\" if round(rmse_zero, 2) < round(rmse_mean, 2) else (\"With mean\" if round(rmse_mean, 2) < round(rmse_zero, 2) else \"Both are equally good\")\n",
    "print(q3_answer)"
   ]
  },
  {
   "cell_type": "code",
   "execution_count": 26,
   "id": "be287842",
   "metadata": {},
   "outputs": [
    {
     "name": "stdout",
     "output_type": "stream",
     "text": [
      "r=0     -> val RMSE = 7.19\n",
      "r=0.01  -> val RMSE = 7.19\n",
      "r=0.1   -> val RMSE = 7.19\n",
      "r=1     -> val RMSE = 7.19\n",
      "r=5     -> val RMSE = 7.19\n",
      "r=10    -> val RMSE = 7.19\n",
      "r=100   -> val RMSE = 7.19\n",
      "Best r = 0 with RMSE = 7.19\n"
     ]
    }
   ],
   "source": [
    "X_tr0 = X_train_raw.copy().fillna(0)\n",
    "X_v0  = X_val_raw.copy().fillna(0)\n",
    "\n",
    "for c in feats:\n",
    "    X_tr0[c] = pd.to_numeric(X_tr0[c], errors='coerce').fillna(0)\n",
    "    X_v0[c]  = pd.to_numeric(X_v0[c], errors='coerce').fillna(0)\n",
    "\n",
    "X_tr0 = X_tr0.values\n",
    "X_v0  = X_v0.values\n",
    "\n",
    "r_values = [0, 0.01, 0.1, 1, 5, 10, 100]\n",
    "val_scores = {}\n",
    "\n",
    "w0_fixed = 7.17\n",
    "\n",
    "for r in r_values:\n",
    "    # Ridge regression closed form for weights (no bias term)\n",
    "    XTX = X_tr0.T.dot(X_tr0)\n",
    "    reg = np.eye(XTX.shape[0])\n",
    "    XTX_reg = XTX + r * reg\n",
    "    w_rest = np.linalg.inv(XTX_reg).dot(X_tr0.T).dot(y_train)\n",
    "\n",
    "    # Prediction: add bias manually\n",
    "    y_pred = X_v0.dot(w_rest) + w0_fixed\n",
    "    score = round(rmse(y_val, y_pred), 2)\n",
    "    val_scores[r] = score\n",
    "    print(f\"r={r:<5} -> val RMSE = {score}\")\n",
    "\n",
    "# Select r with lowest RMSE, break ties by picking the lowest r\n",
    "min_rmse = min(val_scores.values())\n",
    "best_r = min([r for r, s in val_scores.items() if s == min_rmse])\n",
    "\n",
    "print(\"Best r =\", best_r, \"with RMSE =\", val_scores[best_r])"
   ]
  },
  {
   "cell_type": "code",
   "execution_count": 33,
   "id": "ed067b8a",
   "metadata": {},
   "outputs": [
    {
     "name": "stdout",
     "output_type": "stream",
     "text": [
      "Validation RMSEs: [np.float64(0.52), np.float64(0.52), np.float64(0.52), np.float64(0.52), np.float64(0.51), np.float64(0.53), np.float64(0.53), np.float64(0.51), np.float64(0.51), np.float64(0.51)]\n",
      "Std of validation RMSEs across seeds: 0.007\n"
     ]
    }
   ],
   "source": [
    "\n",
    "seeds = list(range(10))\n",
    "val_rmses = []\n",
    "\n",
    "for s in seeds:\n",
    "    tr, va, te = shuffle_split(df_full, seed=s, train_ratio=0.6, val_ratio=0.2, test_ratio=0.2)\n",
    "\n",
    "    y_tr = va_target = None\n",
    "    y_tr  = tr['fuel_efficiency_mpg'].values\n",
    "    y_va  = va['fuel_efficiency_mpg'].values\n",
    "\n",
    "    Xtr = tr[feats].copy().fillna(0)\n",
    "    Xva = va[feats].copy().fillna(0)\n",
    "\n",
    "    for c in feats:\n",
    "        Xtr[c] = pd.to_numeric(Xtr[c], errors='coerce').fillna(0)\n",
    "        Xva[c] = pd.to_numeric(Xva[c], errors='coerce').fillna(0)\n",
    "\n",
    "    Xtr = prepare_X(pd.concat([Xtr, tr[['fuel_efficiency_mpg']]], axis=1), features=feats)\n",
    "    Xva = prepare_X(pd.concat([Xva, va[['fuel_efficiency_mpg']]], axis=1), features=feats)\n",
    "\n",
    "    w = train_linear_regression(Xtr, y_tr)\n",
    "    preds = predict(Xva, w)\n",
    "    r = rmse(y_va, preds)\n",
    "    val_rmses.append(r)\n",
    "\n",
    "std_scores = float(np.std(val_rmses))\n",
    "print(\"Validation RMSEs:\", [round(v, 2) for v in val_rmses])\n",
    "print(\"Std of validation RMSEs across seeds:\", round(std_scores, 3))\n"
   ]
  },
  {
   "cell_type": "code",
   "execution_count": 31,
   "id": "d50b29f5",
   "metadata": {},
   "outputs": [
    {
     "name": "stdout",
     "output_type": "stream",
     "text": [
      "Test RMSE with r=0.001 (seed=9): 0.515\n"
     ]
    }
   ],
   "source": [
    "\n",
    "tr, va, te = shuffle_split(df_full, seed=9, train_ratio=0.6, val_ratio=0.2, test_ratio=0.2)\n",
    "\n",
    "train_full = pd.concat([tr, va]).reset_index(drop=True)\n",
    "\n",
    "y_train_full = train_full['fuel_efficiency_mpg'].values\n",
    "y_test = te['fuel_efficiency_mpg'].values\n",
    "\n",
    "X_train_full = train_full[feats].copy().fillna(0)\n",
    "X_test0       = te[feats].copy().fillna(0)\n",
    "\n",
    "for c in feats:\n",
    "    X_train_full[c] = pd.to_numeric(X_train_full[c], errors='coerce').fillna(0)\n",
    "    X_test0[c]      = pd.to_numeric(X_test0[c], errors='coerce').fillna(0)\n",
    "\n",
    "X_train_full = prepare_X(pd.concat([X_train_full, train_full[['fuel_efficiency_mpg']]], axis=1), features=feats)\n",
    "X_test0      = prepare_X(pd.concat([X_test0,      te[['fuel_efficiency_mpg']]],       axis=1), features=feats)\n",
    "\n",
    "w = train_linear_regression_reg(X_train_full, y_train_full, r=0.001)\n",
    "y_pred_test = predict(X_test0, w)\n",
    "test_rmse = rmse(y_test, y_pred_test)\n",
    "\n",
    "print(\"Test RMSE with r=0.001 (seed=9):\", round(test_rmse, 3))\n"
   ]
  }
 ],
 "metadata": {
  "kernelspec": {
   "display_name": "3.12-venv",
   "language": "python",
   "name": "python3"
  },
  "language_info": {
   "codemirror_mode": {
    "name": "ipython",
    "version": 3
   },
   "file_extension": ".py",
   "mimetype": "text/x-python",
   "name": "python",
   "nbconvert_exporter": "python",
   "pygments_lexer": "ipython3",
   "version": "3.12.11"
  }
 },
 "nbformat": 4,
 "nbformat_minor": 5
}
